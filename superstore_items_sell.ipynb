{
 "cells": [
  {
   "cell_type": "code",
   "execution_count": null,
   "id": "12848f97",
   "metadata": {},
   "outputs": [],
   "source": [
    "total = 0\n",
    "while(True):\n",
    "    in1 = input('Enter no of items and its category: ')\n",
    "    if in1 != 'STOP':\n",
    "        no_items,cat = in1.split(',')\n",
    "        no_items = int(no_items)\n",
    "        if cat in('A','a'):\n",
    "            if no_items < 30:\n",
    "                total +=  no_items * 15\n",
    "            elif no_items >= 30 and no_items <= 99:\n",
    "                total +=  no_items * 12\n",
    "            else:\n",
    "                total +=  no_items * 10\n",
    "        elif cat in('B','b'):\n",
    "            if no_items < 50:\n",
    "                total +=  no_items * 30\n",
    "            elif no_items >= 50 and no_items <= 99:\n",
    "                total +=  no_items * 25\n",
    "            else:\n",
    "                total +=  no_items * 20\n",
    "    else:\n",
    "        break\n",
    "    \n",
    "if total > 1500:\n",
    "    total = total - total * 0.10\n",
    "elif total > 1000:\n",
    "    total = total - total * 0.05\n",
    "print ('Total amount payable is : ', total)"
   ]
  }
 ],
 "metadata": {
  "kernelspec": {
   "display_name": "Python 3 (ipykernel)",
   "language": "python",
   "name": "python3"
  },
  "language_info": {
   "codemirror_mode": {
    "name": "ipython",
    "version": 3
   },
   "file_extension": ".py",
   "mimetype": "text/x-python",
   "name": "python",
   "nbconvert_exporter": "python",
   "pygments_lexer": "ipython3",
   "version": "3.10.9"
  }
 },
 "nbformat": 4,
 "nbformat_minor": 5
}
